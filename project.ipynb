{
 "cells": [
  {
   "cell_type": "code",
   "execution_count": 1,
   "id": "cd85f465",
   "metadata": {},
   "outputs": [
    {
     "name": "stdout",
     "output_type": "stream",
     "text": [
      "[*********************100%***********************]  1 of 1 completed\n",
      "                   Open         High          Low        Close    Adj Close  \\\n",
      "Date                                                                          \n",
      "1996-01-01    15.859429    15.944529    15.754989    15.917452    10.477990   \n",
      "1996-01-02    15.878770    15.956133    15.677626    15.793671    10.396510   \n",
      "1996-01-03    16.052837    16.783918    15.878770    15.913584    10.475445   \n",
      "1996-01-04    15.762726    15.813012    15.553845    15.766594    10.378685   \n",
      "1996-01-05    15.704703    15.704703    15.522900    15.658285    10.307390   \n",
      "...                 ...          ...          ...          ...          ...   \n",
      "2023-05-22  2435.000000  2466.000000  2432.350098  2455.000000  2455.000000   \n",
      "2023-05-23  2460.649902  2468.000000  2451.449951  2454.550049  2454.550049   \n",
      "2023-05-24  2445.899902  2464.000000  2433.449951  2440.250000  2440.250000   \n",
      "2023-05-25  2433.899902  2449.000000  2416.050049  2439.949951  2439.949951   \n",
      "2023-05-26  2458.000000  2509.000000  2450.750000  2506.500000  2506.500000   \n",
      "\n",
      "               Volume  \n",
      "Date                   \n",
      "1996-01-01   48051995  \n",
      "1996-01-02   77875009  \n",
      "1996-01-03   96602936  \n",
      "1996-01-04  100099436  \n",
      "1996-01-05   76935930  \n",
      "...               ...  \n",
      "2023-05-22    3431208  \n",
      "2023-05-23    2811473  \n",
      "2023-05-24    3743804  \n",
      "2023-05-25    5301647  \n",
      "2023-05-26    5827017  \n",
      "\n",
      "[6888 rows x 6 columns]\n"
     ]
    }
   ],
   "source": [
    "import yfinance as yf\n",
    "ticker = \"RELIANCE.NS\"\n",
    "start_date = \"1996-01-01\"\n",
    "end_date = \"2023-05-27\"\n",
    "data = yf.download(ticker, start=start_date, end=end_date)\n",
    "print(data)"
   ]
  },
  {
   "cell_type": "code",
   "execution_count": null,
   "id": "4047a140",
   "metadata": {},
   "outputs": [],
   "source": []
  }
 ],
 "metadata": {
  "kernelspec": {
   "display_name": "Python 3 (ipykernel)",
   "language": "python",
   "name": "python3"
  },
  "language_info": {
   "codemirror_mode": {
    "name": "ipython",
    "version": 3
   },
   "file_extension": ".py",
   "mimetype": "text/x-python",
   "name": "python",
   "nbconvert_exporter": "python",
   "pygments_lexer": "ipython3",
   "version": "3.9.13"
  }
 },
 "nbformat": 4,
 "nbformat_minor": 5
}
